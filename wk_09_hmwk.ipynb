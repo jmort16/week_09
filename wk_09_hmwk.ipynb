{
 "cells": [
  {
   "cell_type": "markdown",
   "id": "47eefded",
   "metadata": {},
   "source": [
    "# Week 9 Homework"
   ]
  },
  {
   "cell_type": "markdown",
   "id": "410fbeb6",
   "metadata": {},
   "source": [
    "#### While the Belize dataset is not normally distributed, act as if it is for the purposes of the homework. "
   ]
  },
  {
   "cell_type": "markdown",
   "id": "5fc3fad3",
   "metadata": {},
   "source": [
    "#### Imports for Start-Up"
   ]
  },
  {
   "cell_type": "code",
   "execution_count": 103,
   "id": "bc26970a",
   "metadata": {},
   "outputs": [],
   "source": [
    "import pandas as pd\n",
    "import matplotlib.pyplot as plt\n",
    "import numpy as np\n",
    "import seaborn as sns\n",
    "from scipy.stats import poisson\n",
    "from scipy.stats import binom"
   ]
  },
  {
   "cell_type": "markdown",
   "id": "5e900db0",
   "metadata": {},
   "source": [
    "### 1. Why is assuming normal data an important consideration when answering questions about probability?"
   ]
  },
  {
   "cell_type": "markdown",
   "id": "8d8a9f53",
   "metadata": {},
   "source": [
    "The normal distribution is very simple by nature.  It relies on only the mean and the standard deviation.  Because mean, median, and mode are all equal to one another in a normal distribution, data scientists are better able to make predictions about data when using it.  It's worth noting that when most of the variables in nature are examined with a very large sample size, they more closely mimic the normal distribution."
   ]
  },
  {
   "cell_type": "markdown",
   "id": "111f6bf9",
   "metadata": {},
   "source": [
    "### 2.\tCreate two histograms in a subplot (vertical or horizontal is fine) that show the distribution of reviews_per_month and number_of_reviews in Belize Airbnb data "
   ]
  },
  {
   "cell_type": "markdown",
   "id": "4acb98a7",
   "metadata": {},
   "source": [
    "### a. How do you choose your bin size?"
   ]
  },
  {
   "cell_type": "markdown",
   "id": "f0e57c15",
   "metadata": {},
   "source": [
    "At first, I started with 100 bins, then changed the bin size multiple times to determine which of the bin numbers gave the 'best' representation of the data (in my opinion).  I thought 50 or so would be good.  Then I did some research, and I discovered the Freedman-Diaconis rule.  This rule says that you can determine the best width of the bins by taking twice the interquartile range of the dataset divided by the cube root of the sample size.  I found several rules that are used to determine bin size, but from what I saw, Freedman-Diaconis does the best job of taking into account the spread of the data.  I have attached my code below, but I used Freedman-Diaconis to determine the appropriate bin width, then divided the range of the data by the bin width to find the number of bins.  In the end, I used 71 bins."
   ]
  },
  {
   "cell_type": "code",
   "execution_count": 40,
   "id": "05a5c9b5",
   "metadata": {},
   "outputs": [
    {
     "name": "stdout",
     "output_type": "stream",
     "text": [
      "71\n",
      "71\n"
     ]
    }
   ],
   "source": [
    "revmo_q1 = belize_df['reviews_per_month'].quantile(0.25)\n",
    "revmo_q3 = belize_df['reviews_per_month'].quantile(0.75)\n",
    "revmo_iqr = revmo_q3 - revmo_q1\n",
    "revmo_bin_width = (2 * revmo_iqr) / (len(belize_df['reviews_per_month']) ** (1 / 3))\n",
    "revmo_bin_count = int(np.ceil((belize_df['reviews_per_month'].max() - belize_df['reviews_per_month'].min()) / revmo_bin_width))\n",
    "print(revmo_bin_count)\n",
    "\n",
    "numrev_q1 = belize_df['reviews_per_month'].quantile(0.25)\n",
    "numrev_q3 = belize_df['reviews_per_month'].quantile(0.75)\n",
    "numrev_iqr = numrev_q3 - numrev_q1\n",
    "numrev_bin_width = (2 * numrev_iqr) / (len(belize_df['reviews_per_month']) ** (1 / 3))\n",
    "numrev_bin_count = int(np.ceil((belize_df['reviews_per_month'].max() - belize_df['reviews_per_month'].min()) / numrev_bin_width))\n",
    "print(numrev_bin_count)"
   ]
  },
  {
   "cell_type": "markdown",
   "id": "183fa7de",
   "metadata": {},
   "source": [
    "### b. Histograms"
   ]
  },
  {
   "cell_type": "code",
   "execution_count": 44,
   "id": "c5015dbd",
   "metadata": {},
   "outputs": [
    {
     "data": {
      "image/png": "[encoded data removed]",
      "text/plain": [
       "<Figure size 1152x576 with 2 Axes>"
      ]
     },
     "metadata": {
      "needs_background": "light"
     },
     "output_type": "display_data"
    }
   ],
   "source": [
    "belize=pd.read_csv('belize_airbnb_listings.csv')\n",
    "belize_df=pd.DataFrame(belize)\n",
    "\n",
    "fig, ax = plt.subplots(nrows=1, ncols=2)\n",
    "belize_df['reviews_per_month'].plot.hist(bins=71, figsize=(16,8),ax=ax[0])\n",
    "ax[0].set_title('Reviews per Month')\n",
    "   \n",
    "belize_df['number_of_reviews'].plot.hist(bins=71, figsize=(16,8), ax=ax[1])\n",
    "ax[1].set_title('Number of Reviews')\n",
    "\n",
    "plt.show()"
   ]
  },
  {
   "cell_type": "markdown",
   "id": "58e97b91",
   "metadata": {},
   "source": [
    "### 3.  Create a box and whisker plot for availability_365. "
   ]
  },
  {
   "cell_type": "code",
   "execution_count": 52,
   "id": "e0765de0",
   "metadata": {},
   "outputs": [
    {
     "data": {
      "image/png": "[encoded data removed]",
      "text/plain": [
       "<Figure size 432x288 with 1 Axes>"
      ]
     },
     "metadata": {
      "needs_background": "light"
     },
     "output_type": "display_data"
    }
   ],
   "source": [
    "sns.boxplot(x = belize_df['availability_365'])\n",
    "plt.show()"
   ]
  },
  {
   "cell_type": "markdown",
   "id": "0a64d1e9",
   "metadata": {},
   "source": [
    "### What does this show you?"
   ]
  },
  {
   "cell_type": "markdown",
   "id": "3c874993",
   "metadata": {},
   "source": [
    "This data is definitely left-skewed.  It appears that the upper of the half of the data points lie between 350 and 375, whereas the lower half stretches from about five to 350."
   ]
  },
  {
   "cell_type": "markdown",
   "id": "55226dc2",
   "metadata": {},
   "source": [
    "### 4.  What is the probability that the price for an Airbnb is under $50?"
   ]
  },
  {
   "cell_type": "code",
   "execution_count": 75,
   "id": "f3e84340",
   "metadata": {},
   "outputs": [
    {
     "data": {
      "text/plain": [
       "1.3623364124386372e-92"
      ]
     },
     "execution_count": 75,
     "metadata": {},
     "output_type": "execute_result"
    },
    {
     "data": {
      "image/png": "[encoded data removed]",
      "text/plain": [
       "<Figure size 432x288 with 1 Axes>"
      ]
     },
     "metadata": {
      "needs_background": "light"
     },
     "output_type": "display_data"
    }
   ],
   "source": [
    "#Use Freedman-Diaconis to determine best number of bins....320!!!!\n",
    "price_q1 = belize_df['price'].quantile(0.25)\n",
    "price_q3 = belize_df['price'].quantile(0.75)\n",
    "price_iqr = price_q3 - price_q1\n",
    "price_bin_width = (2 * price_iqr) / (len(belize_df['price']) ** (1 / 3))\n",
    "price_bin_count = int(np.ceil((belize_df['price'].max() - belize_df['price'].min()) / price_bin_width))\n",
    "\n",
    "#Create histogram for reference\n",
    "belize_df['price'].hist(bins=price_bin_count)\n",
    "\n",
    "#Calculate mean for poisson distribution\n",
    "avg_price=belize_df['price'].mean()\n",
    "\n",
    "poisson.cdf(50,avg_price)\n"
   ]
  },
  {
   "cell_type": "markdown",
   "id": "dbe2ce57",
   "metadata": {},
   "source": [
    "The probability that the price is under $50 is practically 0."
   ]
  },
  {
   "cell_type": "markdown",
   "id": "c0283d6b",
   "metadata": {},
   "source": [
    "### a.\tWhat do you notice about these records? Hint: look at the other columns."
   ]
  },
  {
   "cell_type": "markdown",
   "id": "f083eb55",
   "metadata": {},
   "source": [
    "The columns for price, minimum nights, number of reviews, reviews per onth, and calculated host listings count are all substantially right skewed.  The only column that differs from the other is availability 365, which is left skewed."
   ]
  },
  {
   "cell_type": "markdown",
   "id": "ebdc09ba",
   "metadata": {},
   "source": [
    "### b.\tWhat distribution does this data most closely fit?"
   ]
  },
  {
   "cell_type": "markdown",
   "id": "7240a760",
   "metadata": {},
   "source": [
    "This data most closely fits a Poisson distribution."
   ]
  },
  {
   "cell_type": "markdown",
   "id": "3fda7d59",
   "metadata": {},
   "source": [
    "### 5.\tCalculate the sample variance and standard deviation for all the numerical columns in the same output."
   ]
  },
  {
   "cell_type": "code",
   "execution_count": 101,
   "id": "978df482",
   "metadata": {},
   "outputs": [
    {
     "data": {
      "text/html": [
       "<div>\n",
       "<style scoped>\n",
       "    .dataframe tbody tr th:only-of-type {\n",
       "        vertical-align: middle;\n",
       "    }\n",
       "\n",
       "    .dataframe tbody tr th {\n",
       "        vertical-align: top;\n",
       "    }\n",
       "\n",
       "    .dataframe thead th {\n",
       "        text-align: right;\n",
       "    }\n",
       "</style>\n",
       "<table border=\"1\" class=\"dataframe\">\n",
       "  <thead>\n",
       "    <tr style=\"text-align: right;\">\n",
       "      <th></th>\n",
       "      <th>Sample Variance</th>\n",
       "      <th>Standard Deviation</th>\n",
       "    </tr>\n",
       "  </thead>\n",
       "  <tbody>\n",
       "    <tr>\n",
       "      <th>id</th>\n",
       "      <td>1.661428e+14</td>\n",
       "      <td>1.288964e+07</td>\n",
       "    </tr>\n",
       "    <tr>\n",
       "      <th>host_id</th>\n",
       "      <td>1.036327e+16</td>\n",
       "      <td>1.018001e+08</td>\n",
       "    </tr>\n",
       "    <tr>\n",
       "      <th>latitude</th>\n",
       "      <td>2.888413e-01</td>\n",
       "      <td>5.374396e-01</td>\n",
       "    </tr>\n",
       "    <tr>\n",
       "      <th>longitude</th>\n",
       "      <td>1.473608e-01</td>\n",
       "      <td>3.838760e-01</td>\n",
       "    </tr>\n",
       "    <tr>\n",
       "      <th>price</th>\n",
       "      <td>3.171096e+05</td>\n",
       "      <td>5.631248e+02</td>\n",
       "    </tr>\n",
       "    <tr>\n",
       "      <th>minimum_nights</th>\n",
       "      <td>3.214712e+01</td>\n",
       "      <td>5.669843e+00</td>\n",
       "    </tr>\n",
       "    <tr>\n",
       "      <th>number_of_reviews</th>\n",
       "      <td>9.197735e+02</td>\n",
       "      <td>3.032777e+01</td>\n",
       "    </tr>\n",
       "    <tr>\n",
       "      <th>reviews_per_month</th>\n",
       "      <td>4.384482e-01</td>\n",
       "      <td>6.621542e-01</td>\n",
       "    </tr>\n",
       "    <tr>\n",
       "      <th>calculated_host_listings_count</th>\n",
       "      <td>2.674046e+03</td>\n",
       "      <td>5.171118e+01</td>\n",
       "    </tr>\n",
       "    <tr>\n",
       "      <th>availability_365</th>\n",
       "      <td>1.454861e+04</td>\n",
       "      <td>1.206176e+02</td>\n",
       "    </tr>\n",
       "  </tbody>\n",
       "</table>\n",
       "</div>"
      ],
      "text/plain": [
       "                                Sample Variance  Standard Deviation\n",
       "id                                 1.661428e+14        1.288964e+07\n",
       "host_id                            1.036327e+16        1.018001e+08\n",
       "latitude                           2.888413e-01        5.374396e-01\n",
       "longitude                          1.473608e-01        3.838760e-01\n",
       "price                              3.171096e+05        5.631248e+02\n",
       "minimum_nights                     3.214712e+01        5.669843e+00\n",
       "number_of_reviews                  9.197735e+02        3.032777e+01\n",
       "reviews_per_month                  4.384482e-01        6.621542e-01\n",
       "calculated_host_listings_count     2.674046e+03        5.171118e+01\n",
       "availability_365                   1.454861e+04        1.206176e+02"
      ]
     },
     "execution_count": 101,
     "metadata": {},
     "output_type": "execute_result"
    }
   ],
   "source": [
    "dict={'Sample Variance':belize_df.var(ddof=1,numeric_only=True),\n",
    "     'Standard Deviation':belize_df.std(ddof=1,numeric_only=True)}\n",
    "\n",
    "belize_stats = pd.concat(dict,\n",
    "                        axis = 1)\n",
    "\n",
    "pd.DataFrame(belize_stats)\n"
   ]
  },
  {
   "cell_type": "markdown",
   "id": "bf0c7d59",
   "metadata": {},
   "source": [
    "### a.\tWhy sample variance and not population variance?"
   ]
  },
  {
   "cell_type": "markdown",
   "id": "1d3d252d",
   "metadata": {},
   "source": [
    "The belize_airbnb_listings dataset only represents a sample of the population, not the entire population.  So we should only use sample variance when making calculations."
   ]
  },
  {
   "cell_type": "markdown",
   "id": "eefc2612",
   "metadata": {},
   "source": [
    "### b.\tWhat is your takeaway for each metric?"
   ]
  },
  {
   "cell_type": "markdown",
   "id": "e93bcfe1",
   "metadata": {},
   "source": [
    "Because of the scales of measurement for the first four rows, their variance and standard deviation values are not meaningful.  But when considering the standard deviation for all of the other rows, the value is very large in each case relative to what is being measured.  The variance is also high for each of the lower six rows of the dataframe.  Given that this metric is the square of each distance from the mean, it gives a good picture of just how varied each column of the dataset truly is.  Given the earlier observation that all of the columns are notably skewed, the fact that the standard deviation and variance are both high is not surprising."
   ]
  },
  {
   "cell_type": "markdown",
   "id": "d2203094",
   "metadata": {},
   "source": [
    "### c.\tWhat are the scales of measurement for each of these values? "
   ]
  },
  {
   "cell_type": "markdown",
   "id": "bcc3af51",
   "metadata": {},
   "source": [
    "ID and host_id are nominal. Latitude and longitude are interval.\n",
    "Price, minimum_nights, number_of_reviews, reviews_per_month, calculated_host_listings_count, and availability_365 are ratio."
   ]
  },
  {
   "cell_type": "markdown",
   "id": "54af0864",
   "metadata": {},
   "source": [
    "### 6.\tWhat percent of Airbnb listings in Belize are available 360 days a year or more?"
   ]
  },
  {
   "cell_type": "code",
   "execution_count": 132,
   "id": "a5df062d",
   "metadata": {},
   "outputs": [
    {
     "data": {
      "text/plain": [
       "39.52"
      ]
     },
     "execution_count": 132,
     "metadata": {},
     "output_type": "execute_result"
    }
   ],
   "source": [
    "#belize_df[belize_df['availability_365'] >= 360].count()\n",
    "\n",
    "round(((np.sum(belize_df['availability_365'] >= 360))*100)/(belize_df['availability_365'].count()),2)"
   ]
  },
  {
   "cell_type": "markdown",
   "id": "ed2c6e9b",
   "metadata": {},
   "source": [
    "### a.\t360 days or less?"
   ]
  },
  {
   "cell_type": "code",
   "execution_count": 133,
   "id": "7e440847",
   "metadata": {},
   "outputs": [
    {
     "data": {
      "text/plain": [
       "61.55"
      ]
     },
     "execution_count": 133,
     "metadata": {},
     "output_type": "execute_result"
    }
   ],
   "source": [
    "round(((np.sum(belize_df['availability_365'] <= 360))*100)/(belize_df['availability_365'].count()),2)"
   ]
  },
  {
   "cell_type": "markdown",
   "id": "f980efca",
   "metadata": {},
   "source": [
    "### b.\tWhat distribution does this data most closely fit?"
   ]
  },
  {
   "cell_type": "markdown",
   "id": "3355e9d5",
   "metadata": {},
   "source": [
    "This data most closely fits a binomial distribution."
   ]
  },
  {
   "cell_type": "markdown",
   "id": "12615c92",
   "metadata": {},
   "source": [
    "### 7.\tWhat minimum night count are 75% of Airnbnb listing in Belize greater than?"
   ]
  },
  {
   "cell_type": "code",
   "execution_count": 144,
   "id": "a3e01d0b",
   "metadata": {},
   "outputs": [
    {
     "data": {
      "text/plain": [
       "1.0"
      ]
     },
     "execution_count": 144,
     "metadata": {},
     "output_type": "execute_result"
    }
   ],
   "source": [
    "np.quantile(belize_df['minimum_nights'], .25)"
   ]
  },
  {
   "cell_type": "markdown",
   "id": "3dbbb4b1",
   "metadata": {},
   "source": [
    "## The Monty Hall Problem"
   ]
  },
  {
   "cell_type": "markdown",
   "id": "33512855",
   "metadata": {},
   "source": [
    "The Monty Hall Problem is named after the host of the game show \"Let's Make a Deal.\" In the show, a member of the audience is asked to choose one of three doors, one of which contains a desirable prize and two which contain disappointments.  Once the player's choice is made, show personnel open one of the two remaining doors to reveal the undesirable 'prize.'  After that, the audience member has the option to stay with their originally chosen door or to switch and choose the remaining door instead. \n",
    "\n",
    " In terms of probabilities, the player has a 33% chance of selecting the 'winning' door on their first choice, but a 67% chance of selecting the winning door by switching their choice to the remaining door.  This is true because both of the two 'losing' doors, when chosen first, will inevitably leave the 'winning' door as the only remaining door (the door selected by switching).  So the player of this game has a better chance of winning if they always switch their chosen door when offered the opportunity.\n"
   ]
  },
  {
   "cell_type": "markdown",
   "id": "523e1996",
   "metadata": {},
   "source": [
    "## DataCamp"
   ]
  },
  {
   "cell_type": "markdown",
   "id": "92a14997",
   "metadata": {},
   "source": [
    "![Intro to Stats in Python.png](https://github.com/jmort16/wk_09_hmwk/blob/main/Intro%20to%20Stats%20in%20Python.png)"
   ]
  },
  {
   "cell_type": "code",
   "execution_count": null,
   "id": "41161438",
   "metadata": {},
   "outputs": [],
   "source": []
  }
 ],
 "metadata": {
  "kernelspec": {
   "display_name": "Python 3 (ipykernel)",
   "language": "python",
   "name": "python3"
  },
  "language_info": {
   "codemirror_mode": {
    "name": "ipython",
    "version": 3
   },
   "file_extension": ".py",
   "mimetype": "text/x-python",
   "name": "python",
   "nbconvert_exporter": "python",
   "pygments_lexer": "ipython3",
   "version": "3.9.7"
  }
 },
 "nbformat": 4,
 "nbformat_minor": 5
}
