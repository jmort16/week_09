{
 "cells": [
  {
   "cell_type": "markdown",
   "id": "f3fe9555",
   "metadata": {},
   "source": [
    "# Week 9 Group Activity"
   ]
  },
  {
   "cell_type": "markdown",
   "id": "e77e04ff",
   "metadata": {},
   "source": [
    "1. Use this article to answer the following questions:\n",
    "https://realpython.com/numpy-scipy-pandas-correlation-python/\n"
   ]
  },
  {
   "cell_type": "markdown",
   "id": "16d9b340",
   "metadata": {},
   "source": [
    "a. In a jupyter notebook markdown cell, describe the difference between linear and\n",
    "rank correlation."
   ]
  },
  {
   "cell_type": "markdown",
   "id": "a901380c",
   "metadata": {},
   "source": [
    "A linear correlation shows the relationship between two variables as it compares to a linear function, whereas a rank correlation requires ranking the data values first, then comparing the two variables in what is often a nonlinear manner."
   ]
  },
  {
   "cell_type": "markdown",
   "id": "a57111a6",
   "metadata": {},
   "source": [
    "b. Create a scatter plot showing the relationship between\n",
    "calculated_host_listings_count and availability_365 in the Belize Airbnb data"
   ]
  },
  {
   "cell_type": "code",
   "execution_count": 8,
   "id": "10c2ee35",
   "metadata": {},
   "outputs": [
    {
     "ename": "NameError",
     "evalue": "name 'belize_airbnb_listings' is not defined",
     "output_type": "error",
     "traceback": [
      "\u001b[1;31m---------------------------------------------------------------------------\u001b[0m",
      "\u001b[1;31mNameError\u001b[0m                                 Traceback (most recent call last)",
      "\u001b[1;32mC:\\Users\\JMORTE~1\\AppData\\Local\\Temp/ipykernel_1960/442346102.py\u001b[0m in \u001b[0;36m<module>\u001b[1;34m\u001b[0m\n\u001b[0;32m      4\u001b[0m \u001b[1;33m\u001b[0m\u001b[0m\n\u001b[0;32m      5\u001b[0m \u001b[1;33m\u001b[0m\u001b[0m\n\u001b[1;32m----> 6\u001b[1;33m \u001b[0mbelize\u001b[0m \u001b[1;33m=\u001b[0m \u001b[0mpd\u001b[0m\u001b[1;33m.\u001b[0m\u001b[0mread_csv\u001b[0m\u001b[1;33m(\u001b[0m\u001b[0mbelize_airbnb_listings\u001b[0m\u001b[1;33m.\u001b[0m\u001b[0mcsv\u001b[0m\u001b[1;33m)\u001b[0m\u001b[1;33m\u001b[0m\u001b[1;33m\u001b[0m\u001b[0m\n\u001b[0m",
      "\u001b[1;31mNameError\u001b[0m: name 'belize_airbnb_listings' is not defined"
     ]
    }
   ],
   "source": [
    "import seaborn as sns\n",
    "import pandas as pd\n",
    "import matplotlib.pyplot as plt\n",
    "\n",
    "\n",
    "belize = pd.read_csv(belize_airbnb_listings.csv)\n"
   ]
  },
  {
   "cell_type": "code",
   "execution_count": 6,
   "id": "be17b518",
   "metadata": {},
   "outputs": [
    {
     "ename": "NameError",
     "evalue": "name 'belize' is not defined",
     "output_type": "error",
     "traceback": [
      "\u001b[1;31m---------------------------------------------------------------------------\u001b[0m",
      "\u001b[1;31mNameError\u001b[0m                                 Traceback (most recent call last)",
      "\u001b[1;32mC:\\Users\\JMORTE~1\\AppData\\Local\\Temp/ipykernel_1960/2459730957.py\u001b[0m in \u001b[0;36m<module>\u001b[1;34m\u001b[0m\n\u001b[1;32m----> 1\u001b[1;33m \u001b[0mbelize_df\u001b[0m \u001b[1;33m=\u001b[0m \u001b[0mpd\u001b[0m\u001b[1;33m.\u001b[0m\u001b[0mDataFrame\u001b[0m\u001b[1;33m(\u001b[0m\u001b[0mbelize\u001b[0m\u001b[1;33m)\u001b[0m\u001b[1;33m\u001b[0m\u001b[1;33m\u001b[0m\u001b[0m\n\u001b[0m",
      "\u001b[1;31mNameError\u001b[0m: name 'belize' is not defined"
     ]
    }
   ],
   "source": [
    "belize_df = pd.DataFrame(belize)"
   ]
  },
  {
   "cell_type": "code",
   "execution_count": null,
   "id": "a44327c9",
   "metadata": {},
   "outputs": [],
   "source": []
  }
 ],
 "metadata": {
  "kernelspec": {
   "display_name": "Python 3 (ipykernel)",
   "language": "python",
   "name": "python3"
  },
  "language_info": {
   "codemirror_mode": {
    "name": "ipython",
    "version": 3
   },
   "file_extension": ".py",
   "mimetype": "text/x-python",
   "name": "python",
   "nbconvert_exporter": "python",
   "pygments_lexer": "ipython3",
   "version": "3.9.7"
  }
 },
 "nbformat": 4,
 "nbformat_minor": 5
}
